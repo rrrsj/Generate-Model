{
  "nbformat": 4,
  "nbformat_minor": 0,
  "metadata": {
    "colab": {
      "provenance": [],
      "gpuType": "T4"
    },
    "kernelspec": {
      "name": "python3",
      "display_name": "Python 3"
    },
    "language_info": {
      "name": "python"
    },
    "accelerator": "GPU"
  },
  "cells": [
    {
      "cell_type": "code",
      "execution_count": null,
      "metadata": {
        "id": "wQsvvlIZOEGr"
      },
      "outputs": [],
      "source": [
        "import torch\n",
        "import torch.nn as nn\n",
        "from torch.utils.data import Dataset\n",
        "from torch.utils.data import DataLoader\n",
        "import os\n",
        "import cv2\n",
        "from google.colab.patches import cv2_imshow\n",
        "from tqdm import tqdm\n",
        "import numpy as np\n",
        "from random import randint"
      ]
    },
    {
      "cell_type": "code",
      "source": [
        "path='./drive/MyDrive/picture/'\n",
        "device=torch.device(\"cuda:0\"if torch.cuda.is_available()else \"cpu\")\n",
        "batch_size=200\n",
        "step_size=50000\n",
        "epoch=100000\n",
        "beta=0.99"
      ],
      "metadata": {
        "id": "ayqsselx-dmT"
      },
      "execution_count": null,
      "outputs": []
    },
    {
      "cell_type": "code",
      "source": [
        "class MyDataset(Dataset):\n",
        "  def __init__(self,path):\n",
        "    self.data=[]\n",
        "    files = os.listdir(path)\n",
        "    for file in files:\n",
        "      img=cv2.imread(path+file)\n",
        "      self.data.append(torch.FloatTensor(img/255).transpose(1,2).transpose(0,1))\n",
        "      break\n",
        "  def __len__(self):\n",
        "    return len(self.data)\n",
        "  def __getitem__(self,index):\n",
        "    return self.data[index]"
      ],
      "metadata": {
        "id": "gGJMtfgh9pfG"
      },
      "execution_count": null,
      "outputs": []
    },
    {
      "cell_type": "code",
      "source": [
        "dataset=MyDataset(path)\n",
        "dataloader=DataLoader(dataset,batch_size=batch_size,shuffle=False)"
      ],
      "metadata": {
        "id": "P1Zjeg2c-89p"
      },
      "execution_count": null,
      "outputs": []
    },
    {
      "cell_type": "code",
      "source": [
        "def gelu(x):\n",
        "  out=1+torch.tanh(np.sqrt(2/np.pi)*(x+0.044715*torch.pow(x, 3)))\n",
        "  return out*x/2"
      ],
      "metadata": {
        "id": "Ih5yEPYlDD98"
      },
      "execution_count": null,
      "outputs": []
    },
    {
      "cell_type": "code",
      "source": [
        "class layer_down(nn.Module):\n",
        "  def __init__(self,input_channel,output_channel):\n",
        "    super(layer_down,self).__init__()\n",
        "    self.first_layer=nn.Conv2d(input_channel,output_channel,(3,3),padding=1)\n",
        "    self.second_layer=nn.Conv2d(output_channel,output_channel,(3,3),padding=1)\n",
        "  def forward(self,X):\n",
        "    mid_step=gelu(self.first_layer(X))\n",
        "    end_ans=gelu(self.second_layer(mid_step))\n",
        "    return end_ans"
      ],
      "metadata": {
        "id": "Qik3FXK_8vGt"
      },
      "execution_count": null,
      "outputs": []
    },
    {
      "cell_type": "code",
      "source": [
        "class layer_up(nn.Module):\n",
        "  def __init__(self,input_channel,output_channel):\n",
        "    super(layer_up,self).__init__()\n",
        "    self.first_layer=nn.ConvTranspose2d(input_channel,output_channel,2,stride=2)\n",
        "    self.second_layer=nn.Conv2d(output_channel,output_channel,3,padding=1)\n",
        "    self.third_layer=nn.Conv2d(output_channel,output_channel,3,padding=1)\n",
        "  def forward(self,X):\n",
        "    mid_step=gelu(self.first_layer(X))\n",
        "    mid_step1=gelu(self.second_layer(mid_step))\n",
        "    end_ans=gelu(self.third_layer(mid_step1))\n",
        "    return end_ans"
      ],
      "metadata": {
        "id": "oMkgyENcH-tF"
      },
      "execution_count": null,
      "outputs": []
    },
    {
      "cell_type": "code",
      "source": [
        "now1=layer_down(3,3)\n",
        "now2=layer_up(3,3)"
      ],
      "metadata": {
        "id": "IkCewnTMD8QT"
      },
      "execution_count": null,
      "outputs": []
    },
    {
      "cell_type": "code",
      "source": [
        "class U_net(nn.Module):\n",
        "  def __init__(self):\n",
        "    super(U_net,self).__init__()\n",
        "    self.one=nn.Linear(1,64)\n",
        "    self.two=nn.Linear(64,64*64)\n",
        "    self.pooling=nn.MaxPool2d((2,2))\n",
        "    self.down_one_layer=layer_down(4,8)\n",
        "    self.down_two_layer=layer_down(8,16)\n",
        "    self.down_three_layer=layer_down(16,32)\n",
        "    self.up_one_layer=layer_up(32,16)\n",
        "    self.up_two_layer=layer_up(32,8)\n",
        "    self.up_three_layer=layer_up(16,3)\n",
        "  def forward(self,X,t):\n",
        "    linshi=(self.two(gelu(self.one(t))).reshape(1,1,64,64)).repeat(X.size()[0],1,1,1)\n",
        "    one=self.pooling(self.down_one_layer(torch.cat([X,linshi],dim=1)))\n",
        "    two=self.pooling(self.down_two_layer(one))\n",
        "    three=self.pooling(self.down_three_layer(two))\n",
        "    four=self.up_one_layer(three)\n",
        "    five=self.up_two_layer(torch.cat([four,two],dim=1))\n",
        "    six=self.up_three_layer(torch.cat([five,one],dim=1))\n",
        "    return six"
      ],
      "metadata": {
        "id": "GcPiii3yOQik"
      },
      "execution_count": null,
      "outputs": []
    },
    {
      "cell_type": "code",
      "source": [
        "model=U_net()\n",
        "model=model.to(device)"
      ],
      "metadata": {
        "id": "r1cZZt0pNr6C"
      },
      "execution_count": null,
      "outputs": []
    },
    {
      "cell_type": "code",
      "source": [
        "one=[beta]\n",
        "for i in range(1000):\n",
        "  one.append(one[i]*beta)"
      ],
      "metadata": {
        "id": "1te-ZpJxYdl4"
      },
      "execution_count": null,
      "outputs": []
    },
    {
      "cell_type": "code",
      "source": [
        "lr=1e-6\n",
        "optimizer=torch.optim.Adam(model.parameters(),lr=lr)\n",
        "loss=torch.nn.MSELoss()"
      ],
      "metadata": {
        "id": "dacWuS8Nhx_5"
      },
      "execution_count": null,
      "outputs": []
    },
    {
      "cell_type": "code",
      "source": [
        "jishu=0\n",
        "sum=0\n",
        "for www in range(epoch):\n",
        "  for number,data in enumerate(dataloader):\n",
        "    data=data.to(device)\n",
        "    noise=torch.randn(data.size()[0],3,64,64)\n",
        "    noise=noise.to(device)\n",
        "    time=randint(1,300)\n",
        "    t=torch.FloatTensor([time])\n",
        "    t=t.to(device)\n",
        "    output=model((one[time]**0.5*data+(1-one[time])**0.5*noise),t)\n",
        "    ls=loss(output,noise)\n",
        "    sum=sum+ls.item()\n",
        "    ls.backward()\n",
        "    torch.nn.utils.clip_grad_value_(model.parameters(),2)\n",
        "    optimizer.step()\n",
        "    jishu=jishu+1\n",
        "    optimizer.zero_grad()\n",
        "    if jishu%200==0:\n",
        "      print(sum/200)\n",
        "      sum=0\n",
        "    if jishu%2000==0:\n",
        "      with torch.no_grad():\n",
        "        now=torch.randn(1,3,64,64).to(device)\n",
        "        linshi=torch.randn(1,3,64,64).to(device)\n",
        "        for i in range(300):\n",
        "          now=(1/(beta**0.5))*(now-(1-beta)/((1-one[i])**0.5)*model(now,torch.FloatTensor([300-i]).to(device)))+0.1*linshi\n",
        "        now=now.reshape(3,64,64).transpose(0,1).transpose(1,2)\n",
        "        cv2_imshow(now.to('cpu').numpy()*255)\n",
        "      print(sum/2000)\n",
        "      sum=0"
      ],
      "metadata": {
        "id": "9sknkOx1N5gj"
      },
      "execution_count": null,
      "outputs": []
    },
    {
      "cell_type": "code",
      "source": [
        "torch.save(model.state_dict(),path+'u_net.pth')"
      ],
      "metadata": {
        "id": "7rKX_8856DD_"
      },
      "execution_count": null,
      "outputs": []
    },
    {
      "cell_type": "code",
      "source": [
        "for name, param in model.named_parameters():\n",
        "    if param.requires_grad and param.grad is not None:\n",
        "        print(param.grad)"
      ],
      "metadata": {
        "id": "Ih9qDz7hiNp6"
      },
      "execution_count": null,
      "outputs": []
    }
  ]
}